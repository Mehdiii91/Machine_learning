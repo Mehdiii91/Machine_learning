{
 "cells": [
  {
   "cell_type": "code",
   "execution_count": null,
   "metadata": {},
   "outputs": [],
   "source": [
    "def maxSubArray(nums):\n",
    "    maxS = [nums[0]]\n",
    "    max_current = nums[0]\n",
    "    \n",
    "    for i in range(1, len(nums)):\n",
    "        max_current = max(nums[i], max_current + nums[i])\n",
    "        maxS.append(max_current)\n",
    "    \n",
    "    return maxS[-1]\n",
    "\n",
    "# Exemple d'utilisation\n",
    "t = [2, 3, -8, 7, -1, 2, 3]\n",
    "result = maxSubArray(t)\n",
    "print(result)\n"
   ]
  }
 ],
 "metadata": {
  "kernelspec": {
   "display_name": "Python 3",
   "language": "python",
   "name": "python3"
  },
  "language_info": {
   "name": "python",
   "version": "3.12.6"
  }
 },
 "nbformat": 4,
 "nbformat_minor": 2
}
