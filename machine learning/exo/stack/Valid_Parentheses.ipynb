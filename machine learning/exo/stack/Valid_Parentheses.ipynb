{
 "cells": [
  {
   "cell_type": "code",
   "execution_count": null,
   "metadata": {},
   "outputs": [],
   "source": [
    "class Solution:\n",
    "    def isValid(self, s):\n",
    "        stack = []\n",
    "        correspondance = {')': '(', '}': '{', ']': '['}\n",
    "        \n",
    "        for char in s:\n",
    "            if char in correspondance:\n",
    "                sommet = stack.pop() if stack else '#'\n",
    "                if correspondance[char] != sommet:\n",
    "                    return False\n",
    "            else:\n",
    "                stack.append(char)\n",
    "        \n",
    "        return not stack\n",
    "\n",
    "\n",
    "\n",
    "\n",
    "\n"
   ]
  }
 ],
 "metadata": {
  "language_info": {
   "name": "python"
  }
 },
 "nbformat": 4,
 "nbformat_minor": 2
}
