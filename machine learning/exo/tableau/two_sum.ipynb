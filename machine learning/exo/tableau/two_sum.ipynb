{
 "cells": [
  {
   "cell_type": "code",
   "execution_count": 1,
   "metadata": {},
   "outputs": [
    {
     "name": "stdout",
     "output_type": "stream",
     "text": [
      "[0, 1]\n",
      "[1, 2]\n",
      "[0, 1]\n"
     ]
    }
   ],
   "source": [
    "class Solution:\n",
    "    def twoSum(self, nums, target):\n",
    "        hashmap = {}\n",
    "        for i, num in enumerate(nums):\n",
    "            complement = target - num\n",
    "            if complement in hashmap:\n",
    "                return [hashmap[complement], i]\n",
    "            hashmap[num] = i\n",
    "\n",
    "# Exemple d'utilisation\n",
    "solution = Solution()\n",
    "print(solution.twoSum([2, 7, 11, 15], 9))  # Output: [0, 1]\n",
    "print(solution.twoSum([3, 2, 4], 6))       # Output: [1, 2]\n",
    "print(solution.twoSum([3, 3], 6))          # Output: [0, 1]\n"
   ]
  }
 ],
 "metadata": {
  "kernelspec": {
   "display_name": "Python 3",
   "language": "python",
   "name": "python3"
  },
  "language_info": {
   "codemirror_mode": {
    "name": "ipython",
    "version": 3
   },
   "file_extension": ".py",
   "mimetype": "text/x-python",
   "name": "python",
   "nbconvert_exporter": "python",
   "pygments_lexer": "ipython3",
   "version": "3.7.9"
  }
 },
 "nbformat": 4,
 "nbformat_minor": 2
}
