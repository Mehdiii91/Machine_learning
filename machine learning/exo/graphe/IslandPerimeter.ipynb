{
 "cells": [
  {
   "cell_type": "code",
   "execution_count": null,
   "metadata": {
    "vscode": {
     "languageId": "plaintext"
    }
   },
   "outputs": [],
   "source": [
    " class Solution(object):\n",
    "    def islandPerimeter(self, grid):\n",
    "        rows = len(grid)\n",
    "        cols = len(grid[0])\n",
    "        perimeter = 0\n",
    "        \n",
    "        for i in range(rows):\n",
    "            for j in range(cols):\n",
    "                if grid[i][j] == 1:\n",
    "                    \n",
    "                    perimeter += 4\n",
    "                    \n",
    "                    if i > 0 and grid[i-1][j] == 1: \n",
    "                        perimeter -= 2\n",
    "                    if j > 0 and grid[i][j-1] == 1:  \n",
    "                        perimeter -= 2\n",
    "        \n",
    "        return perimeter\n"
   ]
  }
 ],
 "metadata": {
  "language_info": {
   "name": "python"
  }
 },
 "nbformat": 4,
 "nbformat_minor": 2
}
