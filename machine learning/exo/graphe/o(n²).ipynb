{
 "cells": [
  {
   "cell_type": "code",
   "execution_count": null,
   "metadata": {},
   "outputs": [],
   "source": [
    "def maxSubArray(nums):\n",
    "    n = len(nums)\n",
    "    max_sum = float('-inf')\n",
    "    \n",
    "    for i in range(n):\n",
    "        current_sum = 0\n",
    "        \n",
    "        for j in range(i, n):\n",
    "            current_sum += nums[j]\n",
    "            max_sum = max(max_sum, current_sum)\n",
    "    \n",
    "    return max_sum\n"
   ]
  }
 ],
 "metadata": {
  "kernelspec": {
   "display_name": "Python 3",
   "language": "python",
   "name": "python3"
  },
  "language_info": {
   "name": "python",
   "version": "3.12.6"
  }
 },
 "nbformat": 4,
 "nbformat_minor": 2
}
