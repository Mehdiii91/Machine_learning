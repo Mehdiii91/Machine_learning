{
 "cells": [
  {
   "cell_type": "code",
   "execution_count": null,
   "metadata": {},
   "outputs": [],
   "source": [
    "class Solution:\n",
    "    def numIslandsWithSizes(self, grid):\n",
    "        if not grid:\n",
    "            return 0, {}\n",
    "        \n",
    "        n, m = len(grid), len(grid[0])\n",
    "        \n",
    "        def dfs(i, j):\n",
    "            if i < 0 or i >= n or j < 0 or j >= m or grid[i][j] == '0':\n",
    "                return 0\n",
    "            \n",
    "            grid[i][j] = '0'\n",
    "            size = 1\n",
    "            \n",
    "            size += dfs(i - 1, j)\n",
    "            size += dfs(i + 1, j)\n",
    "            size += dfs(i, j - 1)\n",
    "            size += dfs(i, j + 1)\n",
    "            \n",
    "            return size\n",
    "\n",
    "        num_islands = 0\n",
    "        island_sizes = {}\n",
    "\n",
    "        for i in range(n):\n",
    "            for j in range(m):\n",
    "                if grid[i][j] == '1':\n",
    "                    num_islands += 1\n",
    "                    size = dfs(i, j)\n",
    "                    island_sizes[num_islands] = size\n",
    "\n",
    "        sorted_island_sizes = dict(sorted(island_sizes.items(), key=lambda item: item[1], reverse=True))\n",
    "\n",
    "        return num_islands, sorted_island_sizes\n",
    "\n",
    "\n",
    "grid = [\n",
    "  [\"1\",\"1\",\"0\",\"0\",\"0\"],\n",
    "  [\"1\",\"1\",\"0\",\"0\",\"0\"],\n",
    "  [\"0\",\"0\",\"1\",\"0\",\"0\"],\n",
    "  [\"0\",\"0\",\"0\",\"1\",\"1\"]\n",
    "]\n",
    "\n",
    "solution = Solution()\n",
    "num_islands, island_sizes = solution.numIslandsWithSizes(grid)\n",
    "\n",
    "print(\"Nombre d'îles :\", num_islands)\n",
    "print(\"Taille des îles :\", island_sizes)\n"
   ]
  },
  {
   "cell_type": "code",
   "execution_count": null,
   "metadata": {},
   "outputs": [],
   "source": []
  }
 ],
 "metadata": {
  "kernelspec": {
   "display_name": "Python 3",
   "language": "python",
   "name": "python3"
  },
  "language_info": {
   "name": "python",
   "version": "3.12.6"
  }
 },
 "nbformat": 4,
 "nbformat_minor": 2
}
