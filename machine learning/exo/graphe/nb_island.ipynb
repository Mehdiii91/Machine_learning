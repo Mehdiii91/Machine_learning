{
 "cells": [
  {
   "cell_type": "code",
   "execution_count": null,
   "metadata": {
    "vscode": {
     "languageId": "plaintext"
    }
   },
   "outputs": [],
   "source": [
    "class Solution(object):\n",
    "    def numIslands(self, grid):\n",
    "        \"\"\"\n",
    "        :type grid: List[List[str]]\n",
    "        :rtype: int\n",
    "        \"\"\"\n",
    "        if not grid:\n",
    "            return 0\n",
    "        n = len(grid)\n",
    "        m = len(grid[0])\n",
    "        maximum=0\n",
    "\n",
    "        def dfs(i,j):\n",
    "                if i < 0 or i >= n or j < 0 or j >= m or grid[i][j] == '0':\n",
    "                    return 0\n",
    "                        \n",
    "                grid[i][j] = '0'\n",
    "                size=1\n",
    "                size += dfs(i - 1, j)  # Haut\n",
    "                size += dfs(i + 1, j)  # Bas\n",
    "                size += dfs(i, j - 1)  # Gauche\n",
    "                size += dfs(i, j + 1)  # Droite\n",
    "                return size\n",
    "\n",
    "        num_islands=0\n",
    "        islands_sizes={}\n",
    "        for i in range(n):\n",
    "            for j in range(m):\n",
    "                if grid[i][j] == '1':\n",
    "                    num_islands += 1\n",
    "                    size = dfs(i, j)\n",
    "                if size>maximum:\n",
    "                    maximum=size   \n",
    "                    islands_sizes[num_islands] = size\n",
    "        return num_islands, islands_sizes\n",
    "        print(islands_sizes)"
   ]
  }
 ],
 "metadata": {
  "language_info": {
   "name": "python"
  }
 },
 "nbformat": 4,
 "nbformat_minor": 2
}
