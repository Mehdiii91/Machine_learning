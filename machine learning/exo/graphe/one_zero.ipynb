{
 "cells": [
  {
   "cell_type": "code",
   "execution_count": null,
   "metadata": {},
   "outputs": [],
   "source": [
    "class Solution:\n",
    "    def findMaxForm(self, strs, m, n):\n",
    "        dp = [[0] * (n + 1) for _ in range(m + 1)]\n",
    "\n",
    "        for s in strs:\n",
    "            count0 = s.count('0')\n",
    "            count1 = s.count('1')\n",
    "\n",
    "            for i in range(m, count0 - 1, -1):\n",
    "                for j in range(n, count1 - 1, -1):\n",
    "                    dp[i][j] = max(dp[i][j], dp[i - count0][j - count1] + 1)\n",
    "\n",
    "        return dp[m][n]\n"
   ]
  }
 ],
 "metadata": {
  "kernelspec": {
   "display_name": "Python 3",
   "language": "python",
   "name": "python3"
  },
  "language_info": {
   "name": "python",
   "version": "3.12.6"
  }
 },
 "nbformat": 4,
 "nbformat_minor": 2
}
