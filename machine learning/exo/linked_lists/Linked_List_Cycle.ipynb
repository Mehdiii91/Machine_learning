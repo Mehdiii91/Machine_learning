{
 "cells": [
  {
   "cell_type": "code",
   "execution_count": null,
   "metadata": {},
   "outputs": [],
   "source": [
    "class ListNode:\n",
    "    def __init__(self, val=0, next=None):\n",
    "        self.val = val\n",
    "        self.next = next\n",
    "\n",
    "class Solution:\n",
    "    def hasCycle(self, head):\n",
    "        lent = head\n",
    "        rapide = head\n",
    "        \n",
    "        while rapide and rapide.next:\n",
    "            lent = lent.next\n",
    "            rapide = rapide.next.next\n",
    "            \n",
    "            if lent == rapide:\n",
    "                return True\n",
    "        \n",
    "        return False\n",
    "\n"
   ]
  }
 ],
 "metadata": {
  "language_info": {
   "name": "python"
  }
 },
 "nbformat": 4,
 "nbformat_minor": 2
}
