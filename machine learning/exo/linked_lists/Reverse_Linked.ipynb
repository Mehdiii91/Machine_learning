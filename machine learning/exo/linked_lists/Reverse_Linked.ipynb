{
 "cells": [
  {
   "cell_type": "code",
   "execution_count": null,
   "metadata": {},
   "outputs": [],
   "source": [
    "class ListNode:\n",
    "    def __init__(self, val=0, next=None):\n",
    "        self.val = val\n",
    "        self.next = next\n",
    "\n",
    "class Solution:\n",
    "    def reverseList(self, head):\n",
    "        precedent = None\n",
    "        courant = head\n",
    "\n",
    "        while courant:\n",
    "            suivant = courant.next  \n",
    "            courant.next = precedent  \n",
    "            precedent = courant  \n",
    "            courant = suivant  \n",
    "\n",
    "        return precedent  \n",
    "\n",
    "\n",
    "def create_linked_list(numbers):\n",
    "    dummy = ListNode()\n",
    "    current = dummy\n",
    "    for number in numbers:\n",
    "        current.next = ListNode(number)\n",
    "        current = current.next\n",
    "    return dummy.next\n",
    "\n",
    "\n",
    "def print_linked_list(node):\n",
    "    while node:\n",
    "        if node.next:\n",
    "            print node.val, \"->\", \n",
    "        else:\n",
    "            print node.val  \n",
    "        node = node.next\n",
    "\n",
    "\n",
    "\n",
    "solution = Solution()\n",
    "\n",
    "\n",
    "head = create_linked_list([1, 2, 3, 4, 5])\n",
    "\n",
    "\n",
    "result = solution.reverseList(head)\n",
    "\n",
    "\n",
    "print_linked_list(result)  \n"
   ]
  }
 ],
 "metadata": {
  "language_info": {
   "name": "python"
  }
 },
 "nbformat": 4,
 "nbformat_minor": 2
}
